{
 "cells": [
  {
   "cell_type": "markdown",
   "id": "754ff97d-bcff-4212-8633-4a8d688f4f02",
   "metadata": {},
   "source": [
    "#### Class"
   ]
  },
  {
   "cell_type": "code",
   "execution_count": 59,
   "id": "6cd63347-7c21-43d2-a77c-f6d0cbaca241",
   "metadata": {},
   "outputs": [
    {
     "name": "stdout",
     "output_type": "stream",
     "text": [
      "Maha\n",
      "12345\n",
      "123 Main St\n",
      "Software Engineer\n",
      "Employee name : Maha\n",
      "Employee number : 12345\n",
      "Employee Address : 123 Main St\n",
      "Employee Salary : 50000\n",
      "Employee Post : Software Engineer\n",
      "Employee year_of_joining : 2018\n",
      "Employee education : Bachelor's Degree\n",
      "Employee year_of_experience : 6\n",
      "9\n",
      "90000\n"
     ]
    }
   ],
   "source": [
    "#Make a Class\n",
    "\n",
    "class Employee:\n",
    "\n",
    "#Make a Method which store its different attributes\n",
    "    def __init__(self, name, number, address, salary, post, year_of_joining, education, year_of_experience):\n",
    "        self.name = name\n",
    "        self.number = number\n",
    "        self.address = address\n",
    "        self.salary = salary\n",
    "        self.post = post\n",
    "        self.year_of_joining = year_of_joining\n",
    "        self.education= education\n",
    "        self.year_of_experience = year_of_experience\n",
    "\n",
    "#Make a Method that prints the detail Information about employee\n",
    "    def describe_employee(self):\n",
    "        print(f\"Employee name : {self.name}\")\n",
    "        print(f\"Employee number : {self.number}\")\n",
    "        print(f\"Employee Address : {self.address}\")\n",
    "        print(f\"Employee Salary : {self.salary}\")\n",
    "        print(f\"Employee Post : {self.post}\")\n",
    "        print(f\"Employee year_of_joining : {self.year_of_joining}\")\n",
    "        print(f\"Employee education : {self.education}\")\n",
    "        print(f\"Employee year_of_experience : {self.year_of_experience}\")\n",
    "\n",
    "    def update_year_of_experience(self, year):\n",
    "        self.year_of_experience +=year\n",
    "        print(self.year_of_experience)\n",
    "        \n",
    "\n",
    "    def increase_salary(self, amount):\n",
    "        self.salary += amount\n",
    "        print(self.salary)\n",
    "        \n",
    "    \n",
    "        \n",
    "\n",
    "employee101= Employee(\"Maha\",12345, \"123 Main St\", 50000, \"Software Engineer\", 2018, \"Bachelor's Degree\", 6)\n",
    "print(employee101.name)\n",
    "print(employee101.number)\n",
    "print(employee101.address)\n",
    "# print(empl.salary)\n",
    "print(employee101.post)\n",
    "# print(empl.year_of_joining)\n",
    "# print(empl.education)\n",
    "# print(empl.year_of_experience)\n",
    "\n",
    "employee101.describe_employee()\n",
    "employee101.update_year_of_experience(3) \n",
    "employee101.increase_salary(40000)"
   ]
  },
  {
   "cell_type": "code",
   "execution_count": null,
   "id": "f6a79924-bed9-47f0-93ca-9f2e4dd40858",
   "metadata": {},
   "outputs": [],
   "source": []
  },
  {
   "cell_type": "code",
   "execution_count": null,
   "id": "bb63b3e5-e198-4049-987e-60ec3f7335ed",
   "metadata": {},
   "outputs": [],
   "source": []
  },
  {
   "cell_type": "code",
   "execution_count": null,
   "id": "1254cf4d-85d3-40eb-a393-6602c9baee45",
   "metadata": {},
   "outputs": [],
   "source": []
  }
 ],
 "metadata": {
  "kernelspec": {
   "display_name": "Python 3 (ipykernel)",
   "language": "python",
   "name": "python3"
  },
  "language_info": {
   "codemirror_mode": {
    "name": "ipython",
    "version": 3
   },
   "file_extension": ".py",
   "mimetype": "text/x-python",
   "name": "python",
   "nbconvert_exporter": "python",
   "pygments_lexer": "ipython3",
   "version": "3.12.4"
  }
 },
 "nbformat": 4,
 "nbformat_minor": 5
}
