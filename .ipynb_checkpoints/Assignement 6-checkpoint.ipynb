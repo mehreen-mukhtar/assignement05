{
 "cells": [
  {
   "cell_type": "markdown",
   "id": "3defed22-afc3-46f7-ae9d-aaf79c6f01b9",
   "metadata": {},
   "source": [
    "### **Question no. 01**"
   ]
  },
  {
   "cell_type": "code",
   "execution_count": 2,
   "id": "db427f3d-c272-47a6-a69b-11212b68fdd5",
   "metadata": {},
   "outputs": [
    {
     "name": "stdout",
     "output_type": "stream",
     "text": [
      "* \n",
      "* * \n",
      "* * * \n",
      "* * * * \n",
      "* * * * * \n",
      "* * * * \n",
      "* * * \n",
      "* * \n",
      "* \n"
     ]
    }
   ],
   "source": [
    "for i in range(1,6):\n",
    "    for j in range(i):\n",
    "        print(\"*\",end=\" \")\n",
    "    print()\n",
    "for k in range(4,0,-1):\n",
    "    for l in range(k):\n",
    "        print(\"*\",end=\" \")\n",
    "    print()"
   ]
  },
  {
   "cell_type": "markdown",
   "id": "9a3bec03-fc52-420b-827b-2a9761399765",
   "metadata": {},
   "source": [
    "### **Question no. 02**"
   ]
  },
  {
   "cell_type": "code",
   "execution_count": 4,
   "id": "8733b884-10f8-4009-9e76-29259841e2bf",
   "metadata": {},
   "outputs": [
    {
     "name": "stdin",
     "output_type": "stream",
     "text": [
      "Enter a letter e\n"
     ]
    },
    {
     "name": "stdout",
     "output_type": "stream",
     "text": [
      "you letter is vowel word\n"
     ]
    }
   ],
   "source": [
    "user_inpute = input(\"Enter a letter\").lower()\n",
    "letter =[\"a\", \"e\", \"i\", \"o\" ,\"u\"]\n",
    "if user_inpute in letter:\n",
    "    print(\"you letter is vowel word\")\n",
    "else:\n",
    "    print(\"your letter is consonants\")"
   ]
  },
  {
   "cell_type": "markdown",
   "id": "ca5d4aff-7fdb-4817-a56a-97f01f338112",
   "metadata": {},
   "source": [
    "### **Question no. 03**"
   ]
  },
  {
   "cell_type": "code",
   "execution_count": 6,
   "id": "acdf7c9b-9b5c-46d9-a618-5dc693e86813",
   "metadata": {},
   "outputs": [
    {
     "name": "stdin",
     "output_type": "stream",
     "text": [
      "enter a value to get table  3\n"
     ]
    },
    {
     "name": "stdout",
     "output_type": "stream",
     "text": [
      "3 x 1 = 3\n",
      "3 x 2 = 6\n",
      "3 x 3 = 9\n",
      "3 x 4 = 12\n",
      "3 x 5 = 15\n",
      "3 x 6 = 18\n",
      "3 x 7 = 21\n",
      "3 x 8 = 24\n",
      "3 x 9 = 27\n",
      "3 x 10 = 30\n"
     ]
    }
   ],
   "source": [
    "num = int(input(\"enter a value to get table \"))\n",
    "for i in range(1,11):\n",
    "    print(f\"{num} x {i} = {num*i}\")\n",
    "value=[1,2,3,4,5,6,7,8,9,10]"
   ]
  },
  {
   "cell_type": "markdown",
   "id": "9107b9f5-0bb4-4641-8e75-7aa03f84f001",
   "metadata": {},
   "source": [
    "### **Question no. 04**"
   ]
  },
  {
   "cell_type": "code",
   "execution_count": 8,
   "id": "97464791-e948-4624-9ad8-ef7f04e099d5",
   "metadata": {},
   "outputs": [
    {
     "name": "stdin",
     "output_type": "stream",
     "text": [
      "Guess a number between 1 to 9 4\n"
     ]
    },
    {
     "name": "stdout",
     "output_type": "stream",
     "text": [
      "wrong Guess,Try again\n"
     ]
    },
    {
     "name": "stdin",
     "output_type": "stream",
     "text": [
      "Guess a number between 1 to 9 3\n"
     ]
    },
    {
     "name": "stdout",
     "output_type": "stream",
     "text": [
      "wrong Guess,Try again\n"
     ]
    },
    {
     "name": "stdin",
     "output_type": "stream",
     "text": [
      "Guess a number between 1 to 9 2\n"
     ]
    },
    {
     "name": "stdout",
     "output_type": "stream",
     "text": [
      "wrong Guess,Try again\n"
     ]
    },
    {
     "name": "stdin",
     "output_type": "stream",
     "text": [
      "Guess a number between 1 to 9 1\n"
     ]
    },
    {
     "name": "stdout",
     "output_type": "stream",
     "text": [
      "Well Guess\n"
     ]
    }
   ],
   "source": [
    "import random\n",
    "num = random.randint(1,9)\n",
    "while True:\n",
    "    prompt = int(input(\"Guess a number between 1 to 9\"))\n",
    "    if prompt == num:\n",
    "        print(\"Well Guess\")\n",
    "        break\n",
    "    else:\n",
    "        print(\"wrong Guess,Try again\")"
   ]
  },
  {
   "cell_type": "markdown",
   "id": "ab3b7b40-bf9b-4d73-9ac1-57ed142088d1",
   "metadata": {},
   "source": [
    "### **Question no. 05**"
   ]
  },
  {
   "cell_type": "code",
   "execution_count": 10,
   "id": "4c2dc1f9-4876-4e2e-884a-2f23a09efd7f",
   "metadata": {},
   "outputs": [
    {
     "name": "stdout",
     "output_type": "stream",
     "text": [
      "{'Alden Cantrell': (5.9, 65), 'Pierre Cox': (5.8, 66)}\n"
     ]
    }
   ],
   "source": [
    "students = {\n",
    "    'Cierra Vega': (6.2, 70), \n",
    "    'Alden Cantrell': (5.9, 65), \n",
    "    'Kierra Gentry': (6.0, 68), \n",
    "    'Pierre Cox': (5.8, 66)\n",
    "}\n",
    "    \n",
    "filter_students = {\n",
    "    name:(height, weight)\n",
    "    for name,(height, weight) in students.items()\n",
    "    if height<6 and weight<70\n",
    "}\n",
    "\n",
    "print(filter_students)"
   ]
  },
  {
   "cell_type": "markdown",
   "id": "bacef657-d8ec-4736-ad3f-95fa5d06c073",
   "metadata": {},
   "source": [
    "### **Question no. 06**"
   ]
  },
  {
   "cell_type": "code",
   "execution_count": 26,
   "id": "b44b2334-9161-42a1-979b-6f89e3f6984e",
   "metadata": {},
   "outputs": [
    {
     "name": "stdout",
     "output_type": "stream",
     "text": [
      "{'C1': [], 'C2': [], 'C3': []}\n"
     ]
    }
   ],
   "source": [
    "dic_values = {\n",
    "    'C1': [10, 20, 30], \n",
    "    'C2': [20, 30, 40],\n",
    "    'C3': [12, 34]\n",
    "   \n",
    "}\n",
    "dic_values = {key:[] for key in dic_values}\n",
    "print(dic_values)"
   ]
  },
  {
   "cell_type": "markdown",
   "id": "2658294c-a3fa-415c-b60d-8dbf70e1d4a6",
   "metadata": {},
   "source": [
    "### **Question no. 07**"
   ]
  },
  {
   "cell_type": "code",
   "execution_count": 31,
   "id": "e63533f7-67fa-4fbf-9908-85ca081a942b",
   "metadata": {},
   "outputs": [
    {
     "name": "stdout",
     "output_type": "stream",
     "text": [
      "The Indus runs through Pakistan.\n",
      "The Nile runs through Egypt.\n",
      "The Wadi Hanifa runs through Saudi Arab.\n"
     ]
    }
   ],
   "source": [
    "count_rivs = {\n",
    "    'Indus':'Pakistan',\n",
    "    'Nile':'Egypt',\n",
    "    'Wadi Hanifa':'Saudi Arab'\n",
    "    \n",
    "}\n",
    "for river, country in count_rivs.items():\n",
    "    print(f\"The {river} runs through {country}.\")"
   ]
  },
  {
   "cell_type": "markdown",
   "id": "845f4e6a-6f81-466c-9bc6-734b1c66031a",
   "metadata": {},
   "source": [
    "### **Question no. 08**"
   ]
  },
  {
   "cell_type": "code",
   "execution_count": 33,
   "id": "b2aebdcb-1eca-4a74-8cfe-629385f067bc",
   "metadata": {},
   "outputs": [
    {
     "name": "stdin",
     "output_type": "stream",
     "text": [
      "Please enter your age 3\n"
     ]
    },
    {
     "name": "stdout",
     "output_type": "stream",
     "text": [
      "The movie ticket's Price is 10$\n"
     ]
    }
   ],
   "source": [
    "person_age = int(input(\"Please enter your age\"))\n",
    "if person_age <3:\n",
    "    print(\"The movie ticket is free\")\n",
    "elif 3<= person_age <=12:\n",
    "    print(\"The movie ticket's Price is 10$\")\n",
    "else:\n",
    "    print (\"The movie ticket's prices is 15$\")"
   ]
  },
  {
   "cell_type": "code",
   "execution_count": null,
   "id": "5a38e2c8-00f0-493b-b860-b07e0cc14341",
   "metadata": {},
   "outputs": [],
   "source": []
  }
 ],
 "metadata": {
  "kernelspec": {
   "display_name": "Python 3 (ipykernel)",
   "language": "python",
   "name": "python3"
  },
  "language_info": {
   "codemirror_mode": {
    "name": "ipython",
    "version": 3
   },
   "file_extension": ".py",
   "mimetype": "text/x-python",
   "name": "python",
   "nbconvert_exporter": "python",
   "pygments_lexer": "ipython3",
   "version": "3.12.4"
  }
 },
 "nbformat": 4,
 "nbformat_minor": 5
}
