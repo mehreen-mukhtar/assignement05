{
 "cells": [
  {
   "cell_type": "markdown",
   "id": "086977bf-4998-45eb-9525-c0bf79675bda",
   "metadata": {},
   "source": [
    "# ***Assignement 05***"
   ]
  },
  {
   "cell_type": "markdown",
   "id": "1eaf0fcf-7556-41f0-a7bb-b8b1f328ba20",
   "metadata": {},
   "source": [
    "### **Question 01**"
   ]
  },
  {
   "cell_type": "code",
   "execution_count": 3,
   "id": "7b1fefc2-13ef-48d2-92b7-57cb21518f2d",
   "metadata": {},
   "outputs": [
    {
     "name": "stdout",
     "output_type": "stream",
     "text": [
      "All Employee Record\n",
      "\n",
      "id:1, name:maha, department:data science\n",
      "id:2, name: mehreen, department:statistician\n",
      "id:3, name:laiba, department:IT\n",
      "\n",
      "This is the Record of Employee\n",
      "(2, ' mehreen', 'statistician')\n"
     ]
    }
   ],
   "source": [
    "#Initialize an empty tuple to store employee records\n",
    "employee_records=[]\n",
    "\n",
    "#Add an employee record:\n",
    "def add_employee(id, name, department):\n",
    "    employe_record=(id, name, department)\n",
    "    employee_records.append(employe_record)\n",
    "\n",
    "#Display an employee record:\n",
    "def employee_display():\n",
    "    for employee in employee_records:\n",
    "        print(f\"id:{employee[0]}, name:{employee[1]}, department:{employee[2]}\")\n",
    "\n",
    "#Manage employee Record:\n",
    "def search_employee(id):\n",
    "    for employee in employee_records:\n",
    "        if employee[0] == id:\n",
    "            return employee\n",
    "            \n",
    "#Employee record\n",
    "add_employee(1, \"maha\", \"data science\")\n",
    "add_employee(2, \" mehreen\", \"statistician\")\n",
    "add_employee(3, \"laiba\", \"IT\")\n",
    "\n",
    "print(\"All Employee Record\\n\")\n",
    "employee_display()\n",
    "\n",
    "print(\"\\nThis is the Record of Employee\")\n",
    "print(search_employee(2))"
   ]
  },
  {
   "cell_type": "markdown",
   "id": "15681412-e8f8-4eb4-8e96-bddc9ab761f8",
   "metadata": {},
   "source": [
    "### **Question 02**"
   ]
  },
  {
   "cell_type": "code",
   "execution_count": 5,
   "id": "3b5b90c9-58fe-4b22-9250-d3eccfae6cfa",
   "metadata": {},
   "outputs": [
    {
     "name": "stdout",
     "output_type": "stream",
     "text": [
      "\n",
      "Inventory Management System\n",
      "\n",
      "1. Display Inventory\n",
      "2. Add Item\n",
      "3. Update Quantity\n",
      "4. Remove Item\n"
     ]
    },
    {
     "name": "stdin",
     "output_type": "stream",
     "text": [
      "choose an option:  1\n"
     ]
    },
    {
     "name": "stdout",
     "output_type": "stream",
     "text": [
      "ID: 1, Description: LED, Quantity: 200\n",
      "ID: 2, Description: Mobile, Quantity: 50\n",
      "ID: 3, Description: Laptop, Quantity: 400\n"
     ]
    },
    {
     "name": "stdin",
     "output_type": "stream",
     "text": [
      "choose an option:  5\n"
     ]
    }
   ],
   "source": [
    "inventory_items = []\n",
    "\n",
    "#Add items\n",
    "def add_items(id, description, quantity):\n",
    "    item = (id, description , quantity)\n",
    "    inventory_items.append(item)\n",
    "\n",
    "#Display items\n",
    "def display_item():\n",
    "    for item in inventory_items:\n",
    "        print(f\"ID: {item[0]}, Description: {item[1]}, Quantity: {item[2]}\")\n",
    "\n",
    "#Update inventory_item\n",
    "def update_inventry(item_id, new_quantity):\n",
    "    for i, item in enumerate(inventory_items):\n",
    "        if item[0] == item_id:\n",
    "            inventory_items[i] = (item_id , item[1], new_quantity)\n",
    "            break\n",
    "\n",
    "#Delete Inventry_item\n",
    "def remove_item(item_id):\n",
    "    for i, item in enumerate(inventory_items):\n",
    "        if item[0] == item_id:\n",
    "            del inventory_items[i]\n",
    "            break\n",
    "          \n",
    "\n",
    "#Add Inventry_item\n",
    "add_items(1,\"LED\", 200)\n",
    "add_items(2,\"Mobile\", 50)\n",
    "add_items(3,\"Laptop\", 400)\n",
    "\n",
    "print(\"\\nInventory Management System\\n\")\n",
    "\n",
    "print(\"1. Display Inventory\")\n",
    "print(\"2. Add Item\")\n",
    "print(\"3. Update Quantity\")\n",
    "print(\"4. Remove Item\")\n",
    "\n",
    "#Manage Inventory System\n",
    "while True:\n",
    "    \n",
    "\n",
    "    select = input(\"choose an option: \")\n",
    "\n",
    "    if select == \"1\":\n",
    "        display_item()\n",
    "    elif select == \"2\":\n",
    "        id = input(\"Enter item id\")\n",
    "        description = input(\"enter description\")\n",
    "        quantity = int(input(\"enter quantity\"))\n",
    "        add_items(id, description, quantity)\n",
    "    elif select == \"3\":\n",
    "        item_id = input(\"Enter item id\")\n",
    "        new_quantity = input(\"enter new quantity\")\n",
    "        update_inventry(item_id, new_quantity)                      \n",
    "    elif select == \"4\":\n",
    "        item_id = input(\"Enter item id\")\n",
    "        remove_item(item_id)\n",
    "    elif select == \"5\":\n",
    "        break\n",
    "    else:\n",
    "        print(\"invalid Option.Please select again\")\n",
    "    \n"
   ]
  },
  {
   "cell_type": "markdown",
   "id": "7e3a2c0f-adc4-4ad2-a437-41a882b7f18e",
   "metadata": {},
   "source": [
    "### **Question 03**"
   ]
  },
  {
   "cell_type": "code",
   "execution_count": 8,
   "id": "df6cca80-23e4-4d48-844c-b7eea6068240",
   "metadata": {},
   "outputs": [
    {
     "name": "stdout",
     "output_type": "stream",
     "text": [
      "Meeting with Miral:2024-08-20 at 09:00 AM\n",
      "Doctor Appointment:2024-08-25 at 2:00 PM\n",
      "Meeting with Teacher:2024-08-30 at 9:00 AM\n"
     ]
    }
   ],
   "source": [
    "#list of Event\n",
    "events = {}\n",
    "\n",
    "events[\"Meeting with Miral\"] = (\"2024-08-20\", \"09:00 AM\")\n",
    "events[\"Doctor Appointment\"] = (\"2024-08-25\", \"2:00 PM\")\n",
    "events[\"Meeting with Teacher\"] = (\"2024-08-30\", \"9:00 AM\")\n",
    "\n",
    "for event, (date, time) in events.items():\n",
    "    print(f\"{event}:{date} at {time}\")\n",
    "\n"
   ]
  },
  {
   "cell_type": "markdown",
   "id": "5ec97d63-2ebc-4add-8c8a-d28a324eb63d",
   "metadata": {},
   "source": [
    "### **Question 04**"
   ]
  },
  {
   "cell_type": "code",
   "execution_count": 40,
   "id": "32de40c7-a099-40ed-a630-8acd1aa310b1",
   "metadata": {},
   "outputs": [
    {
     "name": "stdout",
     "output_type": "stream",
     "text": [
      "Sales:\n",
      "2024001: Maha, 23, Female\n",
      "2024002: Miral, 20, Female\n",
      "2024003: Bilal, 19, Male\n",
      "IT:\n",
      "2024011: Maha, 23, Female\n",
      "2024012: Miral, 20, Female\n",
      "2024013: Bilal, 19, Male\n",
      "Operation:\n",
      "2024021: Maha, 23, Female\n",
      "2024022: Miral, 20, Female\n",
      "2024023: Bilal, 19, Male\n"
     ]
    }
   ],
   "source": [
    "company = {\n",
    "    'Sales':{\n",
    "        '2024001':{'name':'Maha','age':'23','gender':'Female' },\n",
    "        '2024002':{'name':'Miral','age':'20','gender':'Female' },\n",
    "        '2024003':{'name':'Bilal','age':'19','gender':'Male'}\n",
    "            },\n",
    "       'IT':{\n",
    "           '2024011':{'name':'Maha','age':'23', 'gender':'Female'},\n",
    "            '2024012':{'name':'Miral','age':'20','gender':'Female'},\n",
    "            '2024013':{'name':'Bilal','age':'19','gender':'Male'}\n",
    "            },\n",
    "       'Operation':{\n",
    "            '2024021':{'name':'Maha','age':'23','gender':'Female'},\n",
    "             '2024022':{'name':'Miral','age':'20','gender':'Female'},\n",
    "           '2024023':{'name':'Bilal','age':'19','gender':'Male'}\n",
    "    }\n",
    "}\n",
    "\n",
    "\n",
    "for Department, employees in company.items():\n",
    "    print(f\"{Department}:\")\n",
    "    for name, details in employees.items():\n",
    "        print(f\"{name}: {details['name']}, {details['age']}, {details['gender']}\") \n",
    "   \n",
    "  "
   ]
  },
  {
   "cell_type": "markdown",
   "id": "a63da20f-9a2d-4254-8105-9c4bd162f9bf",
   "metadata": {},
   "source": [
    "### **Question 05**"
   ]
  },
  {
   "cell_type": "code",
   "execution_count": 53,
   "id": "232f2748-d681-4fb2-a8c7-f6ea25faf847",
   "metadata": {},
   "outputs": [
    {
     "name": "stdout",
     "output_type": "stream",
     "text": [
      "miral: \n",
      "    Maths :67,\n",
      "    Physics :77, \n",
      "    Chemistry :77 \n",
      "    \n",
      "mirha: \n",
      "    Maths :78,\n",
      "    Physics :56, \n",
      "    Chemistry :89 \n",
      "    \n",
      "maha: \n",
      "    Maths :99,\n",
      "    Physics :88, \n",
      "    Chemistry :72 \n",
      "    \n"
     ]
    }
   ],
   "source": [
    "students= [\n",
    "    {'Name':'miral','Math':'67','Physics':'77','Chemistry':'77'},\n",
    "    {'Name':'mirha','Math':'78','Physics':'56','Chemistry':'89'},\n",
    "    {'Name':'maha','Math':'99','Physics':'88','Chemistry':'72'}\n",
    "]\n",
    "\n",
    "for student in students:\n",
    "    print(f\"\"\"{student['Name']}: \n",
    "    Maths :{student['Math']},\n",
    "    Physics :{student['Physics']}, \n",
    "    Chemistry :{student['Chemistry']} \n",
    "    \"\"\")\n"
   ]
  },
  {
   "cell_type": "markdown",
   "id": "2ef69e31-1b30-47af-bb70-0b1b78b3019f",
   "metadata": {},
   "source": [
    "### **Question 06**"
   ]
  },
  {
   "cell_type": "code",
   "execution_count": 71,
   "id": "090ce23c-18d7-40d8-ab23-ff2f09721e48",
   "metadata": {},
   "outputs": [
    {
     "name": "stdout",
     "output_type": "stream",
     "text": [
      "Tasks for Project 1:\n",
      "- Task 1 (in progress)\n",
      "- Task 2 (not started)\n",
      "- Task 3 (completed)\n"
     ]
    }
   ],
   "source": [
    "projects = {\n",
    "    \"Project 1\": [\n",
    "        {\"task\": \"Task 1\", \"status\": \"in progress\"},\n",
    "        {\"task\": \"Task 2\", \"status\": \"not started\"},\n",
    "        {\"task\": \"Task 3\", \"status\": \"completed\"}\n",
    "    ],\n",
    "    \"Project 2\": [\n",
    "        {\"task\": \"Task 4\", \"status\": \"in progress\"},\n",
    "        {\"task\": \"Task 5\", \"status\": \"not started\"}\n",
    "    ],\n",
    "    \"Project 3\": [\n",
    "        {\"task\": \"Task 6\", \"status\": \"completed\"},\n",
    "        {\"task\": \"Task 7\", \"status\": \"in progress\"}\n",
    "    ]\n",
    "}\n",
    "\n",
    "def get_tasks(project_name):\n",
    "    return projects.get(project_name, [])\n",
    "\n",
    "# Retrieve tasks for a specific project\n",
    "project_name = \"Project 1\"\n",
    "tasks = get_tasks(project_name)\n",
    "\n",
    "print(f\"Tasks for {project_name}:\")\n",
    "for task in tasks:\n",
    "    print(f\"- {task['task']} ({task['status']})\")"
   ]
  },
  {
   "cell_type": "markdown",
   "id": "76c6ee36-09ba-49cc-b5f6-5f72530e6c79",
   "metadata": {},
   "source": [
    "### **Question 07**"
   ]
  },
  {
   "cell_type": "code",
   "execution_count": 74,
   "id": "63a5082c-549f-4678-9679-db2a3c5acd37",
   "metadata": {},
   "outputs": [
    {
     "name": "stdout",
     "output_type": "stream",
     "text": [
      "Details of Module 2 in Course 1:\n",
      "Course 1 Fundamentals\n"
     ]
    }
   ],
   "source": [
    "training_program = {\n",
    "    \"Course 1\": {\n",
    "        \"Module 1\": \"Introduction to Course 1\",\n",
    "        \"Module 2\": \"Course 1 Fundamentals\",\n",
    "        \"Module 3\": \"Advanced Topics in Course 1\"\n",
    "    },\n",
    "    \"Course 2\": {\n",
    "        \"Module 1\": \"Introduction to Course 2\",\n",
    "        \"Module 2\": \"Course 2 Fundamentals\",\n",
    "        \"Module 3\": \"Advanced Topics in Course 2\"\n",
    "    },\n",
    "    \"Course 3\": {\n",
    "        \"Module 1\": \"Introduction to Course 3\",\n",
    "        \"Module 2\": \"Course 3 Fundamentals\",\n",
    "        \"Module 3\": \"Advanced Topics in Course 3\"\n",
    "    }\n",
    "}\n",
    "\n",
    "def get_module_details(course_name, module_name):\n",
    "    course = training_program.get(course_name)\n",
    "    if course:\n",
    "        module_details = course.get(module_name)\n",
    "        return module_details\n",
    "    return None\n",
    "\n",
    "# Retrieve details of a specific module\n",
    "course_name = \"Course 1\"\n",
    "module_name = \"Module 2\"\n",
    "module_details = get_module_details(course_name, module_name)\n",
    "\n",
    "print(f\"Details of {module_name} in {course_name}:\")\n",
    "print(module_details)"
   ]
  },
  {
   "cell_type": "markdown",
   "id": "5fd88f5a-4d65-440d-ab30-fe4a31499d2f",
   "metadata": {},
   "source": [
    "### **Question 08**"
   ]
  },
  {
   "cell_type": "code",
   "execution_count": 88,
   "id": "75e58d77-cc5b-4efb-957d-9e0aed607049",
   "metadata": {},
   "outputs": [
    {
     "name": "stdout",
     "output_type": "stream",
     "text": [
      "Products below the price threshold:\n",
      "Bulb: $500\n",
      "Mobile: $10000\n",
      "Bedroom set: $50000\n",
      "Dinner set: $5000\n"
     ]
    }
   ],
   "source": [
    "product_1=(p1,price_1)=(\"Bulb\",500)\n",
    "product_2=(p2,price_2)=(\"Mobile\",10000)\n",
    "product_3=(p3,price_3)=(\"Refrigerator\",150000)\n",
    "product_4=(p4,price_4)=(\"Bedroom set\",50000)\n",
    "product_5=(p5,price_5)=(\"Dinner set\",5000)\n",
    "\n",
    "products=[product_1,product_2,product_3,product_4,product_5]\n",
    "#consider the threshold price\n",
    "price_threshold=60000\n",
    "\n",
    "below_threshold = [(name, price) for name, price in products if price < price_threshold]\n",
    "\n",
    "print(\"Products below the price threshold:\")\n",
    "for name, price in below_threshold:\n",
    "    print(f\"{name}: ${price}\")\n"
   ]
  },
  {
   "cell_type": "code",
   "execution_count": null,
   "id": "02153670-9ff0-4975-b6f9-dc83cb02a9d5",
   "metadata": {},
   "outputs": [],
   "source": []
  }
 ],
 "metadata": {
  "kernelspec": {
   "display_name": "Python 3 (ipykernel)",
   "language": "python",
   "name": "python3"
  },
  "language_info": {
   "codemirror_mode": {
    "name": "ipython",
    "version": 3
   },
   "file_extension": ".py",
   "mimetype": "text/x-python",
   "name": "python",
   "nbconvert_exporter": "python",
   "pygments_lexer": "ipython3",
   "version": "3.12.4"
  }
 },
 "nbformat": 4,
 "nbformat_minor": 5
}
